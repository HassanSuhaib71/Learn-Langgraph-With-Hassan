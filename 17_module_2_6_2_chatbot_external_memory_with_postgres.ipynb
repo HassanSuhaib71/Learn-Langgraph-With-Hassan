{
  "nbformat": 4,
  "nbformat_minor": 0,
  "metadata": {
    "colab": {
      "provenance": [],
      "authorship_tag": "ABX9TyOendNrMBt6UGajt06iXeZr",
      "include_colab_link": true
    },
    "kernelspec": {
      "name": "python3",
      "display_name": "Python 3"
    },
    "language_info": {
      "name": "python"
    }
  },
  "cells": [
    {
      "cell_type": "markdown",
      "metadata": {
        "id": "view-in-github",
        "colab_type": "text"
      },
      "source": [
        "<a href=\"https://colab.research.google.com/github/HassanSuhaib71/Learn-Langgraph-With-Hassan/blob/main/17_module_2_6_2_chatbot_external_memory_with_postgres.ipynb\" target=\"_parent\"><img src=\"https://colab.research.google.com/assets/colab-badge.svg\" alt=\"Open In Colab\"/></a>"
      ]
    },
    {
      "cell_type": "code",
      "execution_count": null,
      "metadata": {
        "id": "L-0X6VwRSqyI"
      },
      "outputs": [],
      "source": [
        "\n",
        "%%capture --no-stderr\n",
        "%pip install -U langgraph langgraph-checkpoint-postgres psycopg psycopg-pool langchain_google_genai\n"
      ]
    },
    {
      "cell_type": "code",
      "source": [
        "\n",
        "from google.colab import userdata\n",
        "GEMINI_API_KEY = userdata.get('GEMINI_API_KEY')"
      ],
      "metadata": {
        "id": "kVxPlVvWWxwg"
      },
      "execution_count": null,
      "outputs": []
    },
    {
      "cell_type": "code",
      "source": [
        "\n",
        "import os\n",
        "os.environ[\"LANGCHAIN_API_KEY\"] = userdata.get('LANGCHAIN_API_KEY')\n",
        "os.environ[\"LANGCHAIN_TRACING_V2\"] = \"true\"\n",
        "os.environ[\"LANGCHAIN_PROJECT\"] = \"langchain-academy\""
      ],
      "metadata": {
        "id": "116x5UtWW4y1"
      },
      "execution_count": null,
      "outputs": []
    },
    {
      "cell_type": "code",
      "source": [
        "\n",
        "from google.colab import userdata\n",
        "DB_URI = userdata.get('DB_URI')"
      ],
      "metadata": {
        "id": "ECQ3JqmNW82P"
      },
      "execution_count": null,
      "outputs": []
    },
    {
      "cell_type": "code",
      "source": [
        "\n",
        "from psycopg_pool import ConnectionPool\n",
        "from langgraph.checkpoint.postgres import PostgresSaver\n",
        "\n",
        "# Connection pool for efficient database access\n",
        "connection_kwargs = {\"autocommit\": True, \"prepare_threshold\": 0}\n",
        "\n",
        "# Create a persistent connection pool\n",
        "pool = ConnectionPool(conninfo=DB_URI, max_size=20, kwargs=connection_kwargs)\n",
        "\n",
        "# Initialize PostgresSaver checkpointer\n",
        "checkpointer = PostgresSaver(pool)\n",
        "checkpointer.setup()  # Ensure database tables are set up"
      ],
      "metadata": {
        "id": "5SYtzvDRXBM9"
      },
      "execution_count": null,
      "outputs": []
    },
    {
      "cell_type": "code",
      "source": [
        "from langchain_google_genai import ChatGoogleGenerativeAI\n",
        "from langchain_core.messages import SystemMessage, HumanMessage, RemoveMessage\n",
        "\n",
        "from langgraph.graph import END\n",
        "from langgraph.graph import MessagesState\n",
        "\n",
        "model: ChatGoogleGenerativeAI = ChatGoogleGenerativeAI(model = \"gemini-1.5-flash\", api_key =  GEMINI_API_KEY)\n",
        "\n",
        "class State(MessagesState):\n",
        "    summary: str\n",
        "\n",
        "# Define the logic to call the model\n",
        "def call_model(state: State) -> State:\n",
        "\n",
        "    # Get summary if it exists\n",
        "    summary = state.get(\"summary\", \"\")\n",
        "    print(f\"Using summary: {summary}\")\n",
        "\n",
        "    # If there is summary, then we add it\n",
        "    if summary:\n",
        "\n",
        "        # Add summary to system message\n",
        "        system_message = f\"Summary of conversation earlier: {summary}\"\n",
        "\n",
        "        # Append summary to any newer messages\n",
        "        messages = [SystemMessage(content=system_message)] + state[\"messages\"]\n",
        "\n",
        "    else:\n",
        "        messages = state[\"messages\"]\n",
        "\n",
        "    response = model.invoke(messages)\n",
        "    return {\"messages\": response}\n",
        "\n",
        "def summarize_conversation(state: State) -> State:\n",
        "    print(f\"Messages before summarizing: {len(state['messages'])}\")\n",
        "    # First, we get any existing summary\n",
        "    summary = state.get(\"summary\", \"\")\n",
        "    print(f\"Existing summary: {summary}\")\n",
        "\n",
        "    # Create our summarization prompt\n",
        "    if summary:\n",
        "\n",
        "        # A summary already exists\n",
        "        summary_message = (\n",
        "            f\"This is summary of the conversation to date: {summary}\\n\\n\"\n",
        "            \"Extend the summary by taking into account the new messages above:\"\n",
        "        )\n",
        "\n",
        "    else:\n",
        "        summary_message = \"Create a summary of the conversation above:\"\n",
        "\n",
        "\n",
        "    # Add prompt to our history\n",
        "    messages = state[\"messages\"] + [HumanMessage(content=summary_message)]\n",
        "    response = model.invoke(messages)\n",
        "    # Summarization logic\n",
        "    print(f\"New summary: {response.content}\")\n",
        "\n",
        "    # Delete all but the 2 most recent messages\n",
        "    delete_messages = [RemoveMessage(id=m.id) for m in state[\"messages\"][:-2]]\n",
        "\n",
        "    print(f\"Messages after truncation: {len(delete_messages)}\")\n",
        "    return {\"summary\": response.content, \"messages\": delete_messages}\n",
        "\n",
        "# Determine whether to end or summarize the conversation\n",
        "def should_continue(state: State) -> State:\n",
        "\n",
        "    \"\"\"Return the next node to execute.\"\"\"\n",
        "\n",
        "    messages = state[\"messages\"]\n",
        "    print(f\"Message count: {len(messages)}\")\n",
        "    # If there are more than six messages, then we summarize the conversation\n",
        "    if len(messages) > 6:\n",
        "        return \"summarize_conversation\"\n",
        "\n",
        "    # Otherwise we can just end\n",
        "    return END"
      ],
      "metadata": {
        "id": "McfDcQXMXGjo"
      },
      "execution_count": null,
      "outputs": []
    },
    {
      "cell_type": "code",
      "source": [
        "from langgraph.graph import StateGraph, START, END\n",
        "from langgraph.graph.state import CompiledStateGraph\n",
        "\n",
        "# Redefine workflow\n",
        "workflow = StateGraph(State)\n",
        "workflow.add_node(\"conversation\", call_model)\n",
        "workflow.add_node(summarize_conversation)\n",
        "\n",
        "workflow.add_edge(START, \"conversation\")\n",
        "workflow.add_conditional_edges(\"conversation\", should_continue)\n",
        "workflow.add_edge(\"summarize_conversation\", END)\n",
        "\n",
        "# Compile the workflow with PostgreSQL checkpointer\n",
        "graph = workflow.compile(checkpointer=checkpointer)"
      ],
      "metadata": {
        "id": "ES6h6JA8XNO3"
      },
      "execution_count": null,
      "outputs": []
    },
    {
      "cell_type": "code",
      "source": [
        "# Configuration for thread\n",
        "config = {\"configurable\": {\"thread_id\": \"2\"}}\n",
        "\n",
        "# Start a conversation\n",
        "input_message = HumanMessage(content=\"hi! I'm Hassan\")\n",
        "output = graph.invoke({\"messages\": [input_message]}, config)\n",
        "for m in output['messages'][-1:]:\n",
        "    m.pretty_print()\n",
        "\n",
        "# Check the persisted state\n",
        "graph_state = graph.get_state(config)\n",
        "graph_state"
      ],
      "metadata": {
        "colab": {
          "base_uri": "https://localhost:8080/"
        },
        "id": "-IVbC7rlXQoq",
        "outputId": "7804320d-85d3-40c0-89d3-e603ef616193"
      },
      "execution_count": null,
      "outputs": [
        {
          "output_type": "stream",
          "name": "stdout",
          "text": [
            "Using summary: \n",
            "Message count: 2\n",
            "==================================\u001b[1m Ai Message \u001b[0m==================================\n",
            "\n",
            "Hi Hassan!  Nice to meet you. How can I help you today?\n"
          ]
        },
        {
          "output_type": "execute_result",
          "data": {
            "text/plain": [
              "StateSnapshot(values={'messages': [HumanMessage(content=\"hi! I'm Hassan\", additional_kwargs={}, response_metadata={}, id='20bc8f67-d9bd-419c-bd02-06a6269f982d'), AIMessage(content='Hi Hassan!  Nice to meet you. How can I help you today?', additional_kwargs={}, response_metadata={'prompt_feedback': {'block_reason': 0, 'safety_ratings': []}, 'finish_reason': 'STOP', 'safety_ratings': []}, id='run-a6b8bcbb-32b4-4229-b1cf-e0dfdc580a88-0', usage_metadata={'input_tokens': 7, 'output_tokens': 17, 'total_tokens': 24, 'input_token_details': {'cache_read': 0}})]}, next=(), config={'configurable': {'thread_id': '2', 'checkpoint_ns': '', 'checkpoint_id': '1efdebed-bd1b-6e75-8001-3b2966d9f56f'}}, metadata={'step': 1, 'source': 'loop', 'writes': {'conversation': {'messages': AIMessage(content='Hi Hassan!  Nice to meet you. How can I help you today?', additional_kwargs={}, response_metadata={'finish_reason': 'STOP', 'safety_ratings': [], 'prompt_feedback': {'block_reason': 0, 'safety_ratings': []}}, id='run-a6b8bcbb-32b4-4229-b1cf-e0dfdc580a88-0', usage_metadata={'input_tokens': 7, 'output_tokens': 17, 'total_tokens': 24, 'input_token_details': {'cache_read': 0}})}}, 'parents': {}, 'thread_id': '2'}, created_at='2025-01-30T04:01:18.488298+00:00', parent_config={'configurable': {'thread_id': '2', 'checkpoint_ns': '', 'checkpoint_id': '1efdebec-1954-6e56-8000-2d4abd637f5a'}}, tasks=())"
            ]
          },
          "metadata": {},
          "execution_count": 10
        }
      ]
    },
    {
      "cell_type": "code",
      "source": [
        "# Configuration for thread\n",
        "config = {\"configurable\": {\"thread_id\": \"2\"}}\n",
        "\n",
        "# Start a conversation\n",
        "input_message = HumanMessage(content=\"I like painting pictures.\")\n",
        "output = graph.invoke({\"messages\": [input_message]}, config)\n",
        "for m in output['messages'][-1:]:\n",
        "    m.pretty_print()\n",
        "\n",
        "# Check the persisted state\n",
        "graph_state = graph.get_state(config)\n",
        "graph_state"
      ],
      "metadata": {
        "colab": {
          "base_uri": "https://localhost:8080/"
        },
        "id": "eyAisFo2Xjph",
        "outputId": "1d00a1fc-ed3f-4862-cc52-eb931fee97e5"
      },
      "execution_count": null,
      "outputs": [
        {
          "output_type": "stream",
          "name": "stdout",
          "text": [
            "Using summary: \n",
            "Message count: 5\n",
            "==================================\u001b[1m Ai Message \u001b[0m==================================\n",
            "\n",
            "That's wonderful!  What kind of pictures do you like to paint?  Do you have a favorite subject or style?\n"
          ]
        },
        {
          "output_type": "execute_result",
          "data": {
            "text/plain": [
              "StateSnapshot(values={'messages': [HumanMessage(content=\"hi! I'm Hassan\", additional_kwargs={}, response_metadata={}, id='20bc8f67-d9bd-419c-bd02-06a6269f982d'), AIMessage(content='Hi Hassan!  Nice to meet you. How can I help you today?', additional_kwargs={}, response_metadata={'prompt_feedback': {'block_reason': 0, 'safety_ratings': []}, 'finish_reason': 'STOP', 'safety_ratings': []}, id='run-a6b8bcbb-32b4-4229-b1cf-e0dfdc580a88-0', usage_metadata={'input_tokens': 7, 'output_tokens': 17, 'total_tokens': 24, 'input_token_details': {'cache_read': 0}}), HumanMessage(content='I like painting pictures.', additional_kwargs={}, response_metadata={}, id='6060776b-8766-4fda-9a1e-20421eb61df2'), HumanMessage(content='I like painting pictures.', additional_kwargs={}, response_metadata={}, id='979b2b4b-7811-47cd-a5c8-c7d9e6f2b6f1'), AIMessage(content=\"That's wonderful!  What kind of pictures do you like to paint?  Do you have a favorite subject or style?\", additional_kwargs={}, response_metadata={'prompt_feedback': {'block_reason': 0, 'safety_ratings': []}, 'finish_reason': 'STOP', 'safety_ratings': []}, id='run-8a49377c-8b71-4b22-a75b-3accf3279fc9-0', usage_metadata={'input_tokens': 36, 'output_tokens': 27, 'total_tokens': 63, 'input_token_details': {'cache_read': 0}})]}, next=(), config={'configurable': {'thread_id': '2', 'checkpoint_ns': '', 'checkpoint_id': '1efdebef-55e8-69c3-8006-e761562eea7b'}}, metadata={'step': 6, 'source': 'loop', 'writes': {'conversation': {'messages': AIMessage(content=\"That's wonderful!  What kind of pictures do you like to paint?  Do you have a favorite subject or style?\", additional_kwargs={}, response_metadata={'finish_reason': 'STOP', 'safety_ratings': [], 'prompt_feedback': {'block_reason': 0, 'safety_ratings': []}}, id='run-8a49377c-8b71-4b22-a75b-3accf3279fc9-0', usage_metadata={'input_tokens': 36, 'output_tokens': 27, 'total_tokens': 63, 'input_token_details': {'cache_read': 0}})}}, 'parents': {}, 'thread_id': '2'}, created_at='2025-01-30T04:02:01.354057+00:00', parent_config={'configurable': {'thread_id': '2', 'checkpoint_ns': '', 'checkpoint_id': '1efdebee-64d5-6d79-8005-37eddb02ba4b'}}, tasks=())"
            ]
          },
          "metadata": {},
          "execution_count": 12
        }
      ]
    },
    {
      "cell_type": "code",
      "source": [
        "\n",
        "# Configuration for thread\n",
        "config = {\"configurable\": {\"thread_id\": \"2\"}}\n",
        "\n",
        "# Start a conversation\n",
        "input_message = HumanMessage(content=\"What's my name and what is my hobby?\")\n",
        "output = graph.invoke({\"messages\": [input_message]}, config)\n",
        "for m in output['messages'][-1:]:\n",
        "    m.pretty_print()\n",
        "\n",
        "# Check the persisted state\n",
        "graph_state = graph.get_state(config)\n",
        "graph_state"
      ],
      "metadata": {
        "colab": {
          "base_uri": "https://localhost:8080/"
        },
        "id": "aB0qvg4bX8dc",
        "outputId": "e55bdee7-0906-4bcc-82e7-7365a5b3f2d7"
      },
      "execution_count": null,
      "outputs": [
        {
          "output_type": "stream",
          "name": "stdout",
          "text": [
            "Using summary: \n",
            "Message count: 7\n",
            "Messages before summarizing: 7\n",
            "Existing summary: \n",
            "New summary: The conversation began with Hassan introducing himself.  He then stated that he enjoys painting pictures.  Finally, he asked for a summary of the conversation, which includes his name and hobby.\n",
            "Messages after truncation: 5\n",
            "==================================\u001b[1m Ai Message \u001b[0m==================================\n",
            "\n",
            "Your name is Hassan, and your hobby is painting pictures.\n"
          ]
        },
        {
          "output_type": "execute_result",
          "data": {
            "text/plain": [
              "StateSnapshot(values={'messages': [HumanMessage(content=\"What's my name and what is my hobby?\", additional_kwargs={}, response_metadata={}, id='19d13138-3074-423c-ae87-82a3ffc6a961'), AIMessage(content='Your name is Hassan, and your hobby is painting pictures.', additional_kwargs={}, response_metadata={'prompt_feedback': {'block_reason': 0, 'safety_ratings': []}, 'finish_reason': 'STOP', 'safety_ratings': []}, id='run-4d0f8cfc-c044-43e1-a7c4-9c8253fb602b-0', usage_metadata={'input_tokens': 75, 'output_tokens': 13, 'total_tokens': 88, 'input_token_details': {'cache_read': 0}})], 'summary': 'The conversation began with Hassan introducing himself.  He then stated that he enjoys painting pictures.  Finally, he asked for a summary of the conversation, which includes his name and hobby.'}, next=(), config={'configurable': {'thread_id': '2', 'checkpoint_ns': '', 'checkpoint_id': '1efdebf0-9b38-6e60-800a-d8b7a80c428a'}}, metadata={'step': 10, 'source': 'loop', 'writes': {'summarize_conversation': {'summary': 'The conversation began with Hassan introducing himself.  He then stated that he enjoys painting pictures.  Finally, he asked for a summary of the conversation, which includes his name and hobby.', 'messages': [RemoveMessage(content='', additional_kwargs={}, response_metadata={}, id='20bc8f67-d9bd-419c-bd02-06a6269f982d'), RemoveMessage(content='', additional_kwargs={}, response_metadata={}, id='run-a6b8bcbb-32b4-4229-b1cf-e0dfdc580a88-0'), RemoveMessage(content='', additional_kwargs={}, response_metadata={}, id='6060776b-8766-4fda-9a1e-20421eb61df2'), RemoveMessage(content='', additional_kwargs={}, response_metadata={}, id='979b2b4b-7811-47cd-a5c8-c7d9e6f2b6f1'), RemoveMessage(content='', additional_kwargs={}, response_metadata={}, id='run-8a49377c-8b71-4b22-a75b-3accf3279fc9-0')]}}, 'parents': {}, 'thread_id': '2'}, created_at='2025-01-30T04:02:35.465645+00:00', parent_config={'configurable': {'thread_id': '2', 'checkpoint_ns': '', 'checkpoint_id': '1efdebf0-95a7-65ce-8009-c77026167775'}}, tasks=())"
            ]
          },
          "metadata": {},
          "execution_count": 13
        }
      ]
    },
    {
      "cell_type": "code",
      "source": [
        "# Configuration for thread\n",
        "config = {\"configurable\": {\"thread_id\": \"2\"}}\n",
        "\n",
        "# Start a conversation\n",
        "input_message = HumanMessage(content=\"Can you describe about abstract paintings?\")\n",
        "output = graph.invoke({\"messages\": [input_message]}, config)\n",
        "for m in output['messages'][-1:]:\n",
        "    m.pretty_print()\n",
        "\n",
        "# Check the persisted state\n",
        "graph_state = graph.get_state(config)\n",
        "graph_state"
      ],
      "metadata": {
        "colab": {
          "base_uri": "https://localhost:8080/"
        },
        "id": "ix7VZPPZYHO6",
        "outputId": "fa84ab22-39f7-4b44-ca43-2b668709f782"
      },
      "execution_count": null,
      "outputs": [
        {
          "output_type": "stream",
          "name": "stdout",
          "text": [
            "Using summary: The conversation began with Hassan introducing himself.  He then stated that he enjoys painting pictures.  Finally, he asked for a summary of the conversation, which includes his name and hobby.\n",
            "Message count: 4\n",
            "==================================\u001b[1m Ai Message \u001b[0m==================================\n",
            "\n",
            "Abstract painting is a genre of art that departs from the realistic representation of the external world. Instead of depicting objects in a recognizable way, abstract art uses shapes, colors, forms, and gestural marks to create a visual experience that's often non-representational.  There's no single definition, and the style encompasses a vast range of approaches.\n",
            "\n",
            "Here are some key characteristics:\n",
            "\n",
            "* **Non-representational:**  Abstract art doesn't aim to depict something specific from the real world.  It's about the visual elements themselves, rather than their symbolic meaning or realistic depiction.\n",
            "\n",
            "* **Emphasis on form and color:**  The primary focus is on the interplay of shapes, lines, colors, and textures.  These elements are used to create mood, evoke emotion, or explore visual relationships.\n",
            "\n",
            "* **Emotional expression:** Many abstract paintings aim to convey feelings or ideas directly through the use of color, composition, and brushstrokes. The viewer is invited to interpret the work based on their own emotional responses.\n",
            "\n",
            "* **Variety of styles:**  Abstract art encompasses many sub-styles, including:\n",
            "\n",
            "    * **Geometric abstraction:** Uses geometric shapes and precise compositions.\n",
            "    * **Lyrical abstraction:** Emphasizes fluidity, delicate lines, and soft colors.\n",
            "    * **Gestural abstraction:** Focuses on the artist's physical movements and spontaneous brushstrokes.\n",
            "    * **Color field painting:**  Uses large areas of flat color to create a sense of atmosphere and emotion.\n",
            "\n",
            "\n",
            "* **Subjectivity:**  The meaning of an abstract painting is often open to interpretation.  There's no single \"correct\" way to understand it. The artist's intent may be clear, but the viewer's experience is equally important.\n",
            "\n",
            "In short, abstract painting is a powerful and versatile form of art that allows artists to explore visual language and express themselves in unique and often deeply personal ways.  It challenges viewers to engage with the work on a sensory and emotional level, rather than simply identifying recognizable objects.\n"
          ]
        },
        {
          "output_type": "execute_result",
          "data": {
            "text/plain": [
              "StateSnapshot(values={'messages': [HumanMessage(content=\"What's my name and what is my hobby?\", additional_kwargs={}, response_metadata={}, id='19d13138-3074-423c-ae87-82a3ffc6a961'), AIMessage(content='Your name is Hassan, and your hobby is painting pictures.', additional_kwargs={}, response_metadata={'prompt_feedback': {'block_reason': 0, 'safety_ratings': []}, 'finish_reason': 'STOP', 'safety_ratings': []}, id='run-4d0f8cfc-c044-43e1-a7c4-9c8253fb602b-0', usage_metadata={'input_tokens': 75, 'output_tokens': 13, 'total_tokens': 88, 'input_token_details': {'cache_read': 0}}), HumanMessage(content='Can you describe about abstract paintings?', additional_kwargs={}, response_metadata={}, id='82d94f22-7a5f-4cce-bd1e-6d8f45cc2a94'), AIMessage(content='Abstract painting is a genre of art that departs from the realistic representation of the external world. Instead of depicting objects in a recognizable way, abstract art uses shapes, colors, forms, and gestural marks to create a visual experience that\\'s often non-representational.  There\\'s no single definition, and the style encompasses a vast range of approaches.\\n\\nHere are some key characteristics:\\n\\n* **Non-representational:**  Abstract art doesn\\'t aim to depict something specific from the real world.  It\\'s about the visual elements themselves, rather than their symbolic meaning or realistic depiction.\\n\\n* **Emphasis on form and color:**  The primary focus is on the interplay of shapes, lines, colors, and textures.  These elements are used to create mood, evoke emotion, or explore visual relationships.\\n\\n* **Emotional expression:** Many abstract paintings aim to convey feelings or ideas directly through the use of color, composition, and brushstrokes. The viewer is invited to interpret the work based on their own emotional responses.\\n\\n* **Variety of styles:**  Abstract art encompasses many sub-styles, including:\\n\\n    * **Geometric abstraction:** Uses geometric shapes and precise compositions.\\n    * **Lyrical abstraction:** Emphasizes fluidity, delicate lines, and soft colors.\\n    * **Gestural abstraction:** Focuses on the artist\\'s physical movements and spontaneous brushstrokes.\\n    * **Color field painting:**  Uses large areas of flat color to create a sense of atmosphere and emotion.\\n\\n\\n* **Subjectivity:**  The meaning of an abstract painting is often open to interpretation.  There\\'s no single \"correct\" way to understand it. The artist\\'s intent may be clear, but the viewer\\'s experience is equally important.\\n\\nIn short, abstract painting is a powerful and versatile form of art that allows artists to explore visual language and express themselves in unique and often deeply personal ways.  It challenges viewers to engage with the work on a sensory and emotional level, rather than simply identifying recognizable objects.', additional_kwargs={}, response_metadata={'prompt_feedback': {'block_reason': 0, 'safety_ratings': []}, 'finish_reason': 'STOP', 'safety_ratings': []}, id='run-53bd744e-247c-4cfd-80da-55bcb69d476e-0', usage_metadata={'input_tokens': 75, 'output_tokens': 415, 'total_tokens': 490, 'input_token_details': {'cache_read': 0}})], 'summary': 'The conversation began with Hassan introducing himself.  He then stated that he enjoys painting pictures.  Finally, he asked for a summary of the conversation, which includes his name and hobby.'}, next=(), config={'configurable': {'thread_id': '2', 'checkpoint_ns': '', 'checkpoint_id': '1efdebf2-4afe-61e3-800d-6d4fcecf80c3'}}, metadata={'step': 13, 'source': 'loop', 'writes': {'conversation': {'messages': AIMessage(content='Abstract painting is a genre of art that departs from the realistic representation of the external world. Instead of depicting objects in a recognizable way, abstract art uses shapes, colors, forms, and gestural marks to create a visual experience that\\'s often non-representational.  There\\'s no single definition, and the style encompasses a vast range of approaches.\\n\\nHere are some key characteristics:\\n\\n* **Non-representational:**  Abstract art doesn\\'t aim to depict something specific from the real world.  It\\'s about the visual elements themselves, rather than their symbolic meaning or realistic depiction.\\n\\n* **Emphasis on form and color:**  The primary focus is on the interplay of shapes, lines, colors, and textures.  These elements are used to create mood, evoke emotion, or explore visual relationships.\\n\\n* **Emotional expression:** Many abstract paintings aim to convey feelings or ideas directly through the use of color, composition, and brushstrokes. The viewer is invited to interpret the work based on their own emotional responses.\\n\\n* **Variety of styles:**  Abstract art encompasses many sub-styles, including:\\n\\n    * **Geometric abstraction:** Uses geometric shapes and precise compositions.\\n    * **Lyrical abstraction:** Emphasizes fluidity, delicate lines, and soft colors.\\n    * **Gestural abstraction:** Focuses on the artist\\'s physical movements and spontaneous brushstrokes.\\n    * **Color field painting:**  Uses large areas of flat color to create a sense of atmosphere and emotion.\\n\\n\\n* **Subjectivity:**  The meaning of an abstract painting is often open to interpretation.  There\\'s no single \"correct\" way to understand it. The artist\\'s intent may be clear, but the viewer\\'s experience is equally important.\\n\\nIn short, abstract painting is a powerful and versatile form of art that allows artists to explore visual language and express themselves in unique and often deeply personal ways.  It challenges viewers to engage with the work on a sensory and emotional level, rather than simply identifying recognizable objects.', additional_kwargs={}, response_metadata={'finish_reason': 'STOP', 'safety_ratings': [], 'prompt_feedback': {'block_reason': 0, 'safety_ratings': []}}, id='run-53bd744e-247c-4cfd-80da-55bcb69d476e-0', usage_metadata={'input_tokens': 75, 'output_tokens': 415, 'total_tokens': 490, 'input_token_details': {'cache_read': 0}})}}, 'parents': {}, 'thread_id': '2'}, created_at='2025-01-30T04:03:20.740062+00:00', parent_config={'configurable': {'thread_id': '2', 'checkpoint_ns': '', 'checkpoint_id': '1efdebf2-2d3c-6501-800c-3a9bbaa30a6c'}}, tasks=())"
            ]
          },
          "metadata": {},
          "execution_count": 14
        }
      ]
    },
    {
      "cell_type": "code",
      "source": [
        "\n",
        "# Retrieve state using thread ID\n",
        "config = {\"configurable\": {\"thread_id\": \"1\"}}\n",
        "graph_state = graph.get_state(config)\n",
        "graph_state"
      ],
      "metadata": {
        "colab": {
          "base_uri": "https://localhost:8080/"
        },
        "id": "aLhDUjRXYOS5",
        "outputId": "1329c4b7-23a9-4bb9-b24e-6fd5d18acadf"
      },
      "execution_count": null,
      "outputs": [
        {
          "output_type": "execute_result",
          "data": {
            "text/plain": [
              "StateSnapshot(values={'messages': [HumanMessage(content=\"hi! I'm Wania\", additional_kwargs={}, response_metadata={}, id='be9c43b1-0ee8-4335-9f6a-fae92f6bd5ac'), AIMessage(content='Hi Wania! Nice to meet you.  How can I help you today?', additional_kwargs={}, response_metadata={'prompt_feedback': {'block_reason': 0, 'safety_ratings': []}, 'finish_reason': 'STOP', 'safety_ratings': []}, id='run-5ae83b0d-0cef-4e1e-ac9d-528d1534bcfc-0', usage_metadata={'input_tokens': 8, 'output_tokens': 18, 'total_tokens': 26, 'input_token_details': {'cache_read': 0}})]}, next=(), config={'configurable': {'thread_id': '1', 'checkpoint_ns': '', 'checkpoint_id': '1efdebeb-44c6-69f6-8001-fd9ea3211d40'}}, metadata={'step': 1, 'source': 'loop', 'writes': {'conversation': {'messages': AIMessage(content='Hi Wania! Nice to meet you.  How can I help you today?', additional_kwargs={}, response_metadata={'finish_reason': 'STOP', 'safety_ratings': [], 'prompt_feedback': {'block_reason': 0, 'safety_ratings': []}}, id='run-5ae83b0d-0cef-4e1e-ac9d-528d1534bcfc-0', usage_metadata={'input_tokens': 8, 'output_tokens': 18, 'total_tokens': 26, 'input_token_details': {'cache_read': 0}})}}, 'parents': {}, 'thread_id': '1'}, created_at='2025-01-30T04:00:12.183364+00:00', parent_config={'configurable': {'thread_id': '1', 'checkpoint_ns': '', 'checkpoint_id': '1efdebe9-c6a5-6669-8000-a11b7ca95991'}}, tasks=())"
            ]
          },
          "metadata": {},
          "execution_count": 15
        }
      ]
    },
    {
      "cell_type": "code",
      "source": [
        "pool.close()\n"
      ],
      "metadata": {
        "id": "KReK--gJYS7y"
      },
      "execution_count": null,
      "outputs": []
    }
  ]
}