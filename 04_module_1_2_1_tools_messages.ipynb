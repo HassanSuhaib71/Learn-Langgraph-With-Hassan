{
  "nbformat": 4,
  "nbformat_minor": 0,
  "metadata": {
    "colab": {
      "provenance": [],
      "authorship_tag": "ABX9TyObCg+otNijpLQymbTwqoHA",
      "include_colab_link": true
    },
    "kernelspec": {
      "name": "python3",
      "display_name": "Python 3"
    },
    "language_info": {
      "name": "python"
    }
  },
  "cells": [
    {
      "cell_type": "markdown",
      "metadata": {
        "id": "view-in-github",
        "colab_type": "text"
      },
      "source": [
        "<a href=\"https://colab.research.google.com/github/HassanSuhaib71/Learn-Langgraph-With-Hassan/blob/main/04_module_1_2_1_tools_messages.ipynb\" target=\"_parent\"><img src=\"https://colab.research.google.com/assets/colab-badge.svg\" alt=\"Open In Colab\"/></a>"
      ]
    },
    {
      "cell_type": "code",
      "source": [
        "from pprint import pprint\n",
        "from langchain_core.messages import AIMessage, HumanMessage, SystemMessage\n",
        "\n",
        "messages = [AIMessage(content=f\"So you said you were researching ocean mammals?\", name=\"Model\")]\n",
        "messages.append(HumanMessage(content=f\"Yes, that's right.\",name=\"Lance\"))\n",
        "messages.append(AIMessage(content=f\"Great, what would you like to learn about.\", name=\"Model\"))\n",
        "messages.append(HumanMessage(content=f\"I want to learn about the best place to see Orcas in the US.\", name=\"Lance\"))\n",
        "\n",
        "for m in messages:\n",
        "    m.pretty_print()"
      ],
      "metadata": {
        "colab": {
          "base_uri": "https://localhost:8080/"
        },
        "id": "69KZMg0bT0_Y",
        "outputId": "03564f8a-dc32-46f5-bef2-c0fe9dc8a0bb"
      },
      "execution_count": null,
      "outputs": [
        {
          "output_type": "stream",
          "name": "stdout",
          "text": [
            "==================================\u001b[1m Ai Message \u001b[0m==================================\n",
            "Name: Model\n",
            "\n",
            "So you said you were researching ocean mammals?\n",
            "================================\u001b[1m Human Message \u001b[0m=================================\n",
            "Name: Lance\n",
            "\n",
            "Yes, that's right.\n",
            "==================================\u001b[1m Ai Message \u001b[0m==================================\n",
            "Name: Model\n",
            "\n",
            "Great, what would you like to learn about.\n",
            "================================\u001b[1m Human Message \u001b[0m=================================\n",
            "Name: Lance\n",
            "\n",
            "I want to learn about the best place to see Orcas in the US.\n"
          ]
        }
      ]
    },
    {
      "cell_type": "code",
      "execution_count": null,
      "metadata": {
        "id": "WCAD2e7rRBaO"
      },
      "outputs": [],
      "source": [
        "from google.colab import userdata\n",
        "gemini_api_key = userdata.get('GEMINI_API_KEY')\n"
      ]
    },
    {
      "cell_type": "code",
      "source": [
        "%pip install --quiet -U langchain-google-genai\n"
      ],
      "metadata": {
        "id": "8TnVzVh3R_7k"
      },
      "execution_count": null,
      "outputs": []
    },
    {
      "cell_type": "code",
      "source": [
        "from langchain_google_genai import ChatGoogleGenerativeAI\n",
        "\n",
        "llm : ChatGoogleGenerativeAI = ChatGoogleGenerativeAI(model=\"gemini-1.5-flash\",api_key=gemini_api_key)"
      ],
      "metadata": {
        "id": "FN8i6O9PSErA"
      },
      "execution_count": null,
      "outputs": []
    },
    {
      "cell_type": "code",
      "source": [
        "simple_call = llm.invoke(\"Hi\")\n",
        "print(simple_call.content)"
      ],
      "metadata": {
        "colab": {
          "base_uri": "https://localhost:8080/"
        },
        "id": "c4_bofnGSmmN",
        "outputId": "17ac16d6-4e28-4ea8-c310-26dc200ed21f"
      },
      "execution_count": null,
      "outputs": [
        {
          "output_type": "stream",
          "name": "stdout",
          "text": [
            "Hi there! How can I help you today?\n",
            "\n"
          ]
        }
      ]
    },
    {
      "cell_type": "code",
      "source": [
        "from langchain_core.messages import HumanMessage , AIMessage , SystemMessage\n",
        "\n",
        "messages = [HumanMessage(content = \"What is your name?\")]\n",
        "result = llm.invoke(messages)\n",
        "print(result.content)"
      ],
      "metadata": {
        "colab": {
          "base_uri": "https://localhost:8080/"
        },
        "id": "zf-WrpQCS258",
        "outputId": "c51d23ef-13b2-4a45-f50a-5fd88f8bf03f"
      },
      "execution_count": null,
      "outputs": [
        {
          "output_type": "stream",
          "name": "stdout",
          "text": [
            "I don't have a name.  I am a large language model.\n",
            "\n"
          ]
        }
      ]
    },
    {
      "cell_type": "code",
      "source": [
        "system_human_messages = [\n",
        "    SystemMessage(content=\"you are helpful assisstant! Your name is Bob\"),\n",
        "    HumanMessage(content=\"What is your name?\")\n",
        "                        ]\n",
        "\n",
        "result = llm.invoke(system_human_messages)\n",
        "print(result.content)"
      ],
      "metadata": {
        "colab": {
          "base_uri": "https://localhost:8080/"
        },
        "id": "KicSHyAgbJ3H",
        "outputId": "3533a56c-6c50-4dee-f328-bd5d0df1f77b"
      },
      "execution_count": null,
      "outputs": [
        {
          "output_type": "stream",
          "name": "stdout",
          "text": [
            "My name is Bob.\n",
            "\n"
          ]
        }
      ]
    },
    {
      "cell_type": "markdown",
      "source": [
        "#Tools"
      ],
      "metadata": {
        "id": "-AhZKMf9eay1"
      }
    },
    {
      "cell_type": "code",
      "source": [
        "%%capture --no-stderr\n",
        "%pip install --quiet -U langchain-google-genai langchain_core langgraph"
      ],
      "metadata": {
        "id": "QVWdqIw9cjG-"
      },
      "execution_count": null,
      "outputs": []
    },
    {
      "cell_type": "code",
      "source": [
        "from google.colab import userdata\n",
        "gemini_api_key = userdata.get('GEMINI_API_KEY')"
      ],
      "metadata": {
        "id": "ZGhoAmbQeXFT"
      },
      "execution_count": null,
      "outputs": []
    },
    {
      "cell_type": "code",
      "source": [
        "from langchain_google_genai import ChatGoogleGenerativeAI\n",
        "\n",
        "llm: ChatGoogleGenerativeAI = ChatGoogleGenerativeAI(model=\"gemini-1.5-flash\", api_key=gemini_api_key)"
      ],
      "metadata": {
        "id": "RM4wUNmtejAY"
      },
      "execution_count": null,
      "outputs": []
    },
    {
      "cell_type": "code",
      "source": [
        "print(\"\\n\\nllm\\n\", llm, \"\\n\\n\\n\")\n"
      ],
      "metadata": {
        "colab": {
          "base_uri": "https://localhost:8080/"
        },
        "id": "EsKE1C18eqPW",
        "outputId": "f493a0ac-2678-4ef6-9741-c2e1bd0792dd"
      },
      "execution_count": null,
      "outputs": [
        {
          "output_type": "stream",
          "name": "stdout",
          "text": [
            "\n",
            "\n",
            "llm\n",
            " model='models/gemini-1.5-flash' google_api_key=SecretStr('**********') client=<google.ai.generativelanguage_v1beta.services.generative_service.client.GenerativeServiceClient object at 0x7db9d9256d40> default_metadata=() \n",
            "\n",
            "\n",
            "\n"
          ]
        }
      ]
    },
    {
      "cell_type": "code",
      "source": [
        "def deposite_money(name: str, bank_acc_number: int, money: int):\n",
        "  \"\"\"Deposite Money in Bank account.\n",
        "\n",
        "  Args:\n",
        "    Name: first str\n",
        "    bank_acc_number: second int\n",
        "    money: third int\n",
        "  \"\"\"\n",
        "  return{\"status\": f\"{money}has been Deposited in {name} account.\"}\n"
      ],
      "metadata": {
        "id": "nGrTK7yteyvp"
      },
      "execution_count": null,
      "outputs": []
    },
    {
      "cell_type": "code",
      "source": [
        "llm_with_tool = llm.bind_tools([deposite_money])"
      ],
      "metadata": {
        "colab": {
          "base_uri": "https://localhost:8080/"
        },
        "id": "pOq4R_XDg4_X",
        "outputId": "5b6d4c9e-b990-4075-c4c6-0a72fb036554"
      },
      "execution_count": null,
      "outputs": [
        {
          "output_type": "stream",
          "name": "stderr",
          "text": [
            "WARNING:langchain_google_genai._function_utils:Key 'title' is not supported in schema, ignoring\n"
          ]
        }
      ]
    },
    {
      "cell_type": "code",
      "source": [
        "llm_with_tool"
      ],
      "metadata": {
        "colab": {
          "base_uri": "https://localhost:8080/"
        },
        "id": "rkQyGAU4hFGe",
        "outputId": "3eb654fe-d9cf-4994-e410-eb66c7b4aefc"
      },
      "execution_count": null,
      "outputs": [
        {
          "output_type": "execute_result",
          "data": {
            "text/plain": [
              "RunnableBinding(bound=ChatGoogleGenerativeAI(model='models/gemini-1.5-flash', google_api_key=SecretStr('**********'), client=<google.ai.generativelanguage_v1beta.services.generative_service.client.GenerativeServiceClient object at 0x7db9d9256d40>, default_metadata=()), kwargs={'tools': [{'function_declarations': [{'name': 'deposite_money', 'description': 'Deposite Money in Bank account.\\n\\n  Args:\\n    Name: first str\\n    bank_acc_number: second int\\n    money: third int', 'parameters': {'type_': 6, 'description': 'Deposite Money in Bank account.\\n\\nArgs:\\n  Name: first str\\n  bank_acc_number: second int\\n  money: third int', 'properties': {'money': {'type_': 3, 'format_': '', 'description': '', 'nullable': False, 'enum': [], 'max_items': '0', 'min_items': '0', 'properties': {}, 'required': []}, 'bank_acc_number': {'type_': 3, 'format_': '', 'description': '', 'nullable': False, 'enum': [], 'max_items': '0', 'min_items': '0', 'properties': {}, 'required': []}, 'name': {'type_': 1, 'format_': '', 'description': '', 'nullable': False, 'enum': [], 'max_items': '0', 'min_items': '0', 'properties': {}, 'required': []}}, 'required': ['name', 'bank_acc_number', 'money'], 'format_': '', 'nullable': False, 'enum': [], 'max_items': '0', 'min_items': '0'}}]}]}, config={}, config_factories=[])"
            ]
          },
          "metadata": {},
          "execution_count": 22
        }
      ]
    },
    {
      "cell_type": "code",
      "source": [
        "call = llm.invoke(\n",
        "    [HumanMessage(content=f\"Deposit 10000 in Ahmad Account. His acc number is 00123\", name=\"Muhammad\")])\n",
        "print(call.content)"
      ],
      "metadata": {
        "colab": {
          "base_uri": "https://localhost:8080/"
        },
        "id": "fk-Nr4pahSr2",
        "outputId": "033fddb7-67ab-4ff0-8a96-541aadd62248"
      },
      "execution_count": null,
      "outputs": [
        {
          "output_type": "stream",
          "name": "stdout",
          "text": [
            "Okay, I've noted that you want to deposit 10000 into Ahmad's account, account number 00123.  However, I am a large language model.  I cannot directly interact with financial systems or make real-world transactions.  You will need to use a bank's online system, mobile app, or visit a branch to complete this deposit.\n",
            "\n"
          ]
        }
      ]
    },
    {
      "cell_type": "code",
      "source": [
        "call = llm_with_tool.invoke(\n",
        "    [HumanMessage(content=f\"Deposit 10000 in Ahmad Account. His acc number is 00123\", name=\"Muhammad\")])\n",
        "call"
      ],
      "metadata": {
        "colab": {
          "base_uri": "https://localhost:8080/"
        },
        "id": "ceR0utMShlmy",
        "outputId": "112df684-0aef-40c9-871a-f240872273e3"
      },
      "execution_count": null,
      "outputs": [
        {
          "output_type": "execute_result",
          "data": {
            "text/plain": [
              "AIMessage(content='', additional_kwargs={'function_call': {'name': 'deposite_money', 'arguments': '{\"money\": 10000.0, \"bank_acc_number\": 123.0, \"name\": \"Ahmad\"}'}}, response_metadata={'prompt_feedback': {'block_reason': 0, 'safety_ratings': []}, 'finish_reason': 'STOP', 'safety_ratings': []}, id='run-1eb353d9-d999-44f7-a412-4a6f5d581caf-0', tool_calls=[{'name': 'deposite_money', 'args': {'money': 10000.0, 'bank_acc_number': 123.0, 'name': 'Ahmad'}, 'id': '20645b51-c16a-4b41-9264-0673ba3bc2a4', 'type': 'tool_call'}], usage_metadata={'input_tokens': 118, 'output_tokens': 12, 'total_tokens': 130, 'input_token_details': {'cache_read': 0}})"
            ]
          },
          "metadata": {},
          "execution_count": 24
        }
      ]
    },
    {
      "cell_type": "markdown",
      "source": [
        "#Graph"
      ],
      "metadata": {
        "id": "-sKkmOCxjbvY"
      }
    },
    {
      "cell_type": "code",
      "source": [
        "from typing_extensions import TypedDict\n",
        "\n",
        "class LlmWithToolSState(TypedDict):\n",
        "  messages: list\n",
        "\n",
        "#1.Tools Calling\n",
        "\n",
        "def call_llm(state:LlmWithToolSState):\n",
        "  messages = state[\"messages\"]\n",
        "  call_response = llm_with_tool.invoke(messages)\n",
        "  return{\"messages\":[call_response]}\n",
        "\n",
        "#2.Graph\n",
        "\n",
        "from langgraph.graph import StateGraph, START, END\n",
        "\n",
        "builder: StateGraph = StateGraph(LlmWithToolSState)\n",
        "\n",
        "builder.add_node(\"call_llm_with_tools\", call_llm)\n",
        "\n",
        "\n",
        "builder.add_edge(START, \"call_llm_with_tools\")\n",
        "builder.add_edge(\"call_llm_with_tools\", END)\n",
        "\n",
        "graph = builder.compile()"
      ],
      "metadata": {
        "id": "hfRDhKZvjeTh"
      },
      "execution_count": null,
      "outputs": []
    },
    {
      "cell_type": "code",
      "source": [
        "from IPython.display import display, Image"
      ],
      "metadata": {
        "id": "0hBAgmWJxrn_"
      },
      "execution_count": null,
      "outputs": []
    },
    {
      "cell_type": "code",
      "source": [
        "display(Image(graph.get_graph().draw_mermaid_png()))"
      ],
      "metadata": {
        "colab": {
          "base_uri": "https://localhost:8080/",
          "height": 251
        },
        "id": "CnhXW3_6xwxy",
        "outputId": "46182d2f-57ca-4f37-cbf5-610a28cdcb54"
      },
      "execution_count": null,
      "outputs": [
        {
          "output_type": "display_data",
          "data": {
            "image/png": "[encoded data removed]",
            "text/plain": [
              "<IPython.core.display.Image object>"
            ]
          },
          "metadata": {}
        }
      ]
    },
    {
      "cell_type": "code",
      "source": [
        "graph.invoke({\"messages\": [HumanMessage(content=\"Hi\")]})\n"
      ],
      "metadata": {
        "colab": {
          "base_uri": "https://localhost:8080/"
        },
        "id": "LLR2F6yOybp6",
        "outputId": "7764d7e0-dd75-495f-9b0d-8f6d11c5eb0f"
      },
      "execution_count": null,
      "outputs": [
        {
          "output_type": "execute_result",
          "data": {
            "text/plain": [
              "{'messages': [AIMessage(content='Hello! How can I help you today?\\n', additional_kwargs={}, response_metadata={'prompt_feedback': {'block_reason': 0, 'safety_ratings': []}, 'finish_reason': 'STOP', 'safety_ratings': []}, id='run-fa1641e5-ec18-4a31-affd-ad739740df9f-0', usage_metadata={'input_tokens': 98, 'output_tokens': 10, 'total_tokens': 108, 'input_token_details': {'cache_read': 0}})]}"
            ]
          },
          "metadata": {},
          "execution_count": 51
        }
      ]
    },
    {
      "cell_type": "code",
      "source": [
        "graph.invoke({\"messages\": [HumanMessage(content=\"Deposiut 7000 in Ahmad Account number 001.\")]})\n"
      ],
      "metadata": {
        "colab": {
          "base_uri": "https://localhost:8080/"
        },
        "id": "Gc2c27UOy_ey",
        "outputId": "7d52dd60-ae96-4adc-ee01-7c55bacf2757"
      },
      "execution_count": null,
      "outputs": [
        {
          "output_type": "execute_result",
          "data": {
            "text/plain": [
              "{'messages': [AIMessage(content='', additional_kwargs={'function_call': {'name': 'deposite_money', 'arguments': '{\"money\": 7000.0, \"bank_acc_number\": 1.0, \"name\": \"Ahmad\"}'}}, response_metadata={'prompt_feedback': {'block_reason': 0, 'safety_ratings': []}, 'finish_reason': 'STOP', 'safety_ratings': []}, id='run-d5dcdedc-29bf-45c5-983e-966174215db1-0', tool_calls=[{'name': 'deposite_money', 'args': {'money': 7000.0, 'bank_acc_number': 1.0, 'name': 'Ahmad'}, 'id': 'eafd7567-24ab-41cb-90af-64b18a9c798f', 'type': 'tool_call'}], usage_metadata={'input_tokens': 114, 'output_tokens': 12, 'total_tokens': 126, 'input_token_details': {'cache_read': 0}})]}"
            ]
          },
          "metadata": {},
          "execution_count": 52
        }
      ]
    }
  ]
}