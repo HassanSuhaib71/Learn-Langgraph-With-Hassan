{
  "nbformat": 4,
  "nbformat_minor": 0,
  "metadata": {
    "colab": {
      "provenance": [],
      "authorship_tag": "ABX9TyOr+j2k0Cm8VnYbMOFnt6ZV",
      "include_colab_link": true
    },
    "kernelspec": {
      "name": "python3",
      "display_name": "Python 3"
    },
    "language_info": {
      "name": "python"
    }
  },
  "cells": [
    {
      "cell_type": "markdown",
      "metadata": {
        "id": "view-in-github",
        "colab_type": "text"
      },
      "source": [
        "<a href=\"https://colab.research.google.com/github/HassanSuhaib71/Learn-Langgraph-With-Hassan/blob/main/01_module_0.ipynb\" target=\"_parent\"><img src=\"https://colab.research.google.com/assets/colab-badge.svg\" alt=\"Open In Colab\"/></a>"
      ]
    },
    {
      "cell_type": "code",
      "execution_count": null,
      "metadata": {
        "id": "ZUhbLVi328XC"
      },
      "outputs": [],
      "source": [
        "%%capture --no-stderr\n",
        "!pip install -q langchain_google_genai langchain_core langchain_community tavily-python"
      ]
    },
    {
      "cell_type": "code",
      "source": [
        "from langchain_google_genai import ChatGoogleGenerativeAI\n",
        "\n",
        "from google.colab import userdata\n",
        "GEMINI_API_KEY = userdata.get('GEMINI_API_KEY')\n",
        "llm = ChatGoogleGenerativeAI(\n",
        "    model = 'gemini-1.5-flash',\n",
        "    api_key=GEMINI_API_KEY,\n",
        "    temperature=0,\n",
        ")\n"
      ],
      "metadata": {
        "id": "Ni4MsV2V3fwC"
      },
      "execution_count": null,
      "outputs": []
    },
    {
      "cell_type": "code",
      "source": [
        "result = llm.invoke(\"Who won 2024 US presidential election\")\n",
        "result"
      ],
      "metadata": {
        "colab": {
          "base_uri": "https://localhost:8080/"
        },
        "id": "RyK5evuU5TJb",
        "outputId": "62672203-6db4-4a53-99cc-125700d86cdd"
      },
      "execution_count": null,
      "outputs": [
        {
          "output_type": "execute_result",
          "data": {
            "text/plain": [
              "AIMessage(content='The 2024 US presidential election has not yet happened.  It will be held on November 5, 2024.\\n', additional_kwargs={}, response_metadata={'prompt_feedback': {'block_reason': 0, 'safety_ratings': []}, 'finish_reason': 'STOP', 'safety_ratings': []}, id='run-81569316-debb-4699-9372-716b52595e2b-0', usage_metadata={'input_tokens': 11, 'output_tokens': 31, 'total_tokens': 42, 'input_token_details': {'cache_read': 0}})"
            ]
          },
          "metadata": {},
          "execution_count": 19
        }
      ]
    },
    {
      "cell_type": "code",
      "source": [
        "from langchain_core.messages import HumanMessage, AIMessage\n",
        "\n",
        "messages = [\n",
        "    HumanMessage(content = \"Hi\", name = \"Human Student\"),\n",
        "    AIMessage(content = \"Hello! How can I assist you today?\", name = \"AI Assistant\"),\n",
        "    HumanMessage(content = \"What is langchain?\", name = \"Human Student\"),\n",
        "    AIMessage(content='LangChain is a framework for developing applications powered by language models.' , name = \"AI Assistant\"),\n",
        "    HumanMessage(content = \"How can I learn?\", name = \"Human Student\"),\n",
        "\n",
        "\n",
        "]\n",
        "\n",
        "llm.invoke(messages)"
      ],
      "metadata": {
        "colab": {
          "base_uri": "https://localhost:8080/"
        },
        "id": "qdw69tDA5ja6",
        "outputId": "b7ca16e2-9b22-4d79-f194-7b5f4c438390"
      },
      "execution_count": null,
      "outputs": [
        {
          "output_type": "execute_result",
          "data": {
            "text/plain": [
              "AIMessage(content='There are several ways to learn LangChain, depending on your learning style and prior experience:\\n\\n**1. Official Documentation:** The best place to start is the official LangChain documentation.  It\\'s well-structured and provides comprehensive tutorials and examples.  Look for their \"Getting Started\" guides and work your way through the examples.\\n\\n**2. Tutorials and Blog Posts:** Many tutorials and blog posts are available online covering various aspects of LangChain. Search for \"LangChain tutorial\" or \"LangChain example\" on Google, YouTube, and Medium.  Look for tutorials that focus on specific use cases that interest you, such as building a chatbot or a question-answering system.\\n\\n**3. GitHub Repository:** Explore the LangChain GitHub repository.  You can find the source code, contribute to the project, and see how different components are implemented.  Reading the code can be a great way to deepen your understanding.\\n\\n**4. Courses and Workshops:** While not as prevalent as for some other technologies, you might find online courses or workshops specifically on LangChain or related topics like LLM application development.  Check platforms like Coursera, Udemy, and edX.\\n\\n**5. Community and Forums:** Engage with the LangChain community.  Ask questions on forums like Stack Overflow or join their Discord server (if they have one).  This is a great way to learn from others and get help when you\\'re stuck.\\n\\n**Learning Path Suggestion:**\\n\\n1. **Start with the official documentation\\'s \"Getting Started\" guide.** This will give you a foundational understanding of the core concepts and components.\\n2. **Choose a simple project.**  Try building a small application, like a simple chatbot or a document question-answering system.  This will help you solidify your understanding and gain practical experience.\\n3. **Gradually increase the complexity of your projects.** As you become more comfortable, tackle more challenging projects that utilize more advanced features of LangChain.\\n4. **Explore different modules and integrations.** LangChain offers various modules and integrations with other libraries.  Experiment with these to expand your knowledge and capabilities.\\n\\n\\nRemember to have a basic understanding of Python programming before diving into LangChain.  If you\\'re new to Python, spend some time learning the basics first.  Good luck!\\n', additional_kwargs={}, response_metadata={'prompt_feedback': {'block_reason': 0, 'safety_ratings': []}, 'finish_reason': 'STOP', 'safety_ratings': []}, id='run-c3c38fe1-2c0a-41bb-9ef0-91fb2d1b724d-0', usage_metadata={'input_tokens': 38, 'output_tokens': 474, 'total_tokens': 512, 'input_token_details': {'cache_read': 0}})"
            ]
          },
          "metadata": {},
          "execution_count": 14
        }
      ]
    },
    {
      "cell_type": "code",
      "source": [
        "import os\n",
        "from google.colab import userdata\n",
        "TAVILY_API_KEY = userdata.get('TAVILY_API_KEY')\n",
        "os.environ['TAVILY_API_KEY'] = userdata.get('TAVILY_API_KEY')\n",
        "\n",
        "from langchain_community.tools.tavily_search import TavilySearchResults\n",
        "tavily_search = TavilySearchResults(max_result = 3)\n",
        "search_docs = tavily_search.invoke(\"who won 2024 US presidential election?\")\n"
      ],
      "metadata": {
        "id": "imXUwlJR7BIZ"
      },
      "execution_count": null,
      "outputs": []
    },
    {
      "cell_type": "code",
      "source": [
        "search_docs"
      ],
      "metadata": {
        "colab": {
          "base_uri": "https://localhost:8080/"
        },
        "id": "QRU0ykIK-wqO",
        "outputId": "baddbbcb-335f-4a52-9425-e4be99e81ef1"
      },
      "execution_count": null,
      "outputs": [
        {
          "output_type": "execute_result",
          "data": {
            "text/plain": [
              "[{'url': 'https://www.bbc.com/news/election/2024/us/results',\n",
              "  'content': 'US Presidential Election Results 2024 - BBC News Close menu BBC News Kamala Harris of the Democrat party has 0 electoral college votes. Donald Trump of the Republican party has 0 electoral college votes. Kamala Harris of the Democrat party has 158,810 votes (38.4%) Donald Trump of the Republican party has 249,225 votes (60.2%) US presidential election results 2024 US election 2024 Voting in some states is particularly hard to predict, with polls showing they could be won by the Republicans or the Democratic party. The battleground states that could decide the 2024 presidential election are: Voters in 11 states will also elect a governor. US election polls: Who is ahead - Harris or Trump? US election 2024 About the BBC'},\n",
              " {'url': 'https://www.nbcchicago.com/news/politics/2024-election-results-what-put-donald-trump-over-the-top-to-win-recap-of-what-happened-on-election-night/3593945/',\n",
              "  'content': \"Donald Trump wins 2024 presidential election, NBC News projects. Before Trump was declared President-elect, Wisconsin, along with Michigan, Arizona, Alaska and Maine, all remained too close to call, with experts initially warning that projecting a winner could take days Around 4:30 a.m. Wednesday, NBC News projected former President Donald Trump would become the next President-elect after clinching Wisconsin's 10 Electoral College votes. After Donald Trump was projected to win the 2024 presidential election, Democratic Strategist Peter Giangreco joined NBC Chicago to break down what it all means. By Wednesday morning, it all came down to Wisconsin, which saw Trump win 49.7% to 48.7%, according to NBC News, putting him over the edge to secure enough Electoral College votes.\"},\n",
              " {'url': 'https://www.latimes.com/politics/story/2024-11-06/trump-defeats-harris-47th-president-election-2024',\n",
              "  'content': 'Trump wins 2024 U.S. presidential election - Los Angeles Times Trump elected 47th president of the United States, defeating Harris to retake White House Nancy Northup, President and CEO of the Center for Reproductive Rights, called Trump’s win “a deadly threat to the democratic values of liberty and equality, the rule of law, and reproductive health, rights, and justice in the United States and around the globe.” “The Democrats thought there were enough people who hated Trump or were willing to fear him to win the race,” Jennings said. 2024 election results: Trump wins second term in historic comeback'},\n",
              " {'url': 'https://www.nytimes.com/2024/11/06/us/politics/trump-wins-presidency.html',\n",
              "  'content': \"The 2024 election is the second time Mr. Trump has defeated a woman trying to break through the nation's highest gender barrier — the presidency — after he prevailed over Hillary Clinton\"},\n",
              " {'url': 'https://www.usatoday.com/story/news/politics/elections/2024/11/05/election-2024-live-updates-results/75686839007/',\n",
              "  'content': \"The result of all the tumult has been razor-thin polling margins in the Real Clear Politics average of national surveys, Trump led Harris by 0.1 percentage point, well within the margin of error for each of the surveys included. As Americans from coast to coast make their voices heard at the ballot box, keep up with the USA TODAY Network's live coverage of the 2024 presidential election and check back here for results. Election Day 2024 is here, and Harris and Trump are neck-and-neck in the polls. If you're still undecided between the Democratic and Republican nominees, check out USA TODAY's voter guide to see what Trump and Harris have said about major issues, in their own words.\"}]"
            ]
          },
          "metadata": {},
          "execution_count": 18
        }
      ]
    }
  ]
}